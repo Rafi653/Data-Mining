{
  "nbformat": 4,
  "nbformat_minor": 0,
  "metadata": {
    "kernelspec": {
      "display_name": "Python 3",
      "language": "python",
      "name": "python3"
    },
    "language_info": {
      "codemirror_mode": {
        "name": "ipython",
        "version": 3
      },
      "file_extension": ".py",
      "mimetype": "text/x-python",
      "name": "python",
      "nbconvert_exporter": "python",
      "pygments_lexer": "ipython3",
      "version": "3.7.6"
    },
    "colab": {
      "name": "Homework 6.ipynb",
      "provenance": [],
      "collapsed_sections": [],
      "include_colab_link": true
    }
  },
  "cells": [
    {
      "cell_type": "markdown",
      "metadata": {
        "id": "view-in-github",
        "colab_type": "text"
      },
      "source": [
        "<a href=\"https://colab.research.google.com/github/Rafi653/Data-Mining/blob/main/Homework_6.ipynb\" target=\"_parent\"><img src=\"https://colab.research.google.com/assets/colab-badge.svg\" alt=\"Open In Colab\"/></a>"
      ]
    },
    {
      "cell_type": "markdown",
      "metadata": {
        "id": "Yq0XoVUIVNLC"
      },
      "source": [
        "# Homework 6"
      ]
    },
    {
      "cell_type": "markdown",
      "metadata": {
        "id": "0aqF485OxR-U"
      },
      "source": [
        "**Before you start:** Read Chapter 10 Logistic Regression and Chapter 11 Neural Networks in the textbook.\n",
        "\n",
        "**Note:** Please enter the code along with your comments in the **TODO** section.\n",
        "\n",
        "Alternative solutions are always welcomed."
      ]
    },
    {
      "cell_type": "code",
      "source": [
        "# # Please remove # and run the following code if you have an error while importing the dataset\n",
        "# !pip install --upgrade openpyxl"
      ],
      "metadata": {
        "id": "yMgpfJtOrwcu"
      },
      "execution_count": null,
      "outputs": []
    },
    {
      "cell_type": "markdown",
      "metadata": {
        "id": "QkMxpyKOxR-L"
      },
      "source": [
        "## Part 1: Logistic Regression"
      ]
    },
    {
      "cell_type": "markdown",
      "metadata": {
        "id": "3IKYRqKtxR-N"
      },
      "source": [
        "### Problem 1 - Financial Condition of Banks##"
      ]
    },
    {
      "cell_type": "markdown",
      "metadata": {
        "id": "H8fENJRPk7P7"
      },
      "source": [
        "The file **Banks.csv** includes data on a sample of 20 banks. \n",
        "\n",
        "The “Financial Condition” column records the judgment of an expert on the financial condition of each bank. This response variable takes one of two possible values—weak or strong—according to the financial condition of the bank. \n",
        "\n",
        "The predictors are two ratios used in the financial analysis of banks: TotLns&Lses/Assets is the ratio of total loans and leases to total assets and TotExp/Assets is the ratio of total expenses to total assets. \n",
        "\n",
        "The target is to classify the financial condition of a new bank using the two ratios.\n"
      ]
    },
    {
      "cell_type": "code",
      "metadata": {
        "id": "C8gmUJ3n8Mir"
      },
      "source": [
        "# Load the required packages\n"
      ],
      "execution_count": null,
      "outputs": []
    },
    {
      "cell_type": "code",
      "metadata": {
        "id": "FSE0buiIaG2I"
      },
      "source": [
        "# Import the dataset\n"
      ],
      "execution_count": null,
      "outputs": []
    },
    {
      "cell_type": "markdown",
      "metadata": {
        "id": "OZ-Hg7chbTyq"
      },
      "source": [
        "\n",
        "**TODO 1**\n",
        "\n",
        "Run a logistic regression model (on the entire dataset) that models the status of a bank as a function of the two financial measures provided. \n",
        "\n",
        "Specify the success class as weak (this is similar to creating a dummy that is 1 for financially weak banks and 0 otherwise), and use the default cutoff value of 0.5.\n"
      ]
    },
    {
      "cell_type": "code",
      "metadata": {
        "id": "ErsncXj3baud"
      },
      "source": [
        ""
      ],
      "execution_count": null,
      "outputs": []
    },
    {
      "cell_type": "markdown",
      "metadata": {
        "id": "orhex-OXhkgV"
      },
      "source": [
        "\n",
        "**TODO 2**\n",
        "\n",
        "Write the estimated equation that associates the financial condition of a bank with its two predictors in three formats:\n",
        "\n",
        "a. The logit as a function of the predictors\n",
        "\n",
        "b. The odds as a function of the predictors\n",
        "\n",
        "c. The probability as a function of the predictors\n"
      ]
    },
    {
      "cell_type": "code",
      "metadata": {
        "id": "yCI3v_RwbeqY"
      },
      "source": [
        ""
      ],
      "execution_count": null,
      "outputs": []
    },
    {
      "cell_type": "markdown",
      "metadata": {
        "id": "nZPj-AWCC-YV"
      },
      "source": [
        "\n",
        "**TODO 3**\n",
        "\n",
        "Consider a new bank whose total loans and leases/assets ratio = 0.6 and total expenses/assets ratio = 0.11. \n",
        "\n",
        "From your logistic regression model, estimate the following four quantities for this bank: \n",
        "\n",
        "the logit, the odds, the probability of being financially weak, and the classification of the bank (use cutoff = 0.5)."
      ]
    },
    {
      "cell_type": "code",
      "metadata": {
        "id": "gi1Yftm1a5nL"
      },
      "source": [
        ""
      ],
      "execution_count": null,
      "outputs": []
    },
    {
      "cell_type": "markdown",
      "metadata": {
        "id": "wkjhBNIlGFlu"
      },
      "source": [
        "**TODO 4**\n",
        "\n",
        "We use a cutoff value of 0.5 to classify a record based on propensity. \n",
        "\n",
        "Instead, if we want to classify the record using the odds or logit, what value should we take as a cutoff?"
      ]
    },
    {
      "cell_type": "code",
      "metadata": {
        "id": "5WeDE--MGMq5"
      },
      "source": [
        ""
      ],
      "execution_count": null,
      "outputs": []
    },
    {
      "cell_type": "markdown",
      "metadata": {
        "id": "ZpGQxB2GGUzz"
      },
      "source": [
        "**TODO 5**\n",
        "\n",
        "When a bank with in poor financial condition is misclassified as financially strong, the misclassification cost is much higher than a financially strong bank misclassified as weak. \n",
        "\n",
        "To minimize the expected cost of misclassification, should the cutoff value for classification (which is currently at 0.5) be increased or decreased?"
      ]
    },
    {
      "cell_type": "markdown",
      "metadata": {
        "id": "xNIiXuixcaO4"
      },
      "source": [
        ""
      ]
    },
    {
      "cell_type": "markdown",
      "metadata": {
        "id": "iOI1yr8jcqy9"
      },
      "source": [
        "### Problem 2 - Identifying Good System Administrators##"
      ]
    },
    {
      "cell_type": "markdown",
      "metadata": {
        "id": "tVHsB-RfcqzH"
      },
      "source": [
        "A management consultant is studying the roles played by experience and training in a system administrator’s ability to complete a set of tasks in a specified amount of time. In particular, the consultant is interested in discriminating between administrators who are able to complete given tasks within a specified time and those who are not. \n",
        "\n",
        "Data are collected on the performance of 75 randomly selected administrators. They are stored in the file **SystemAdministrators.csv**.\n",
        "\n",
        "The variable Experience measures months of full-time system administrator experience, while Training measures the number of relevant training credits. The outcome variable Completed is either Yes or No, according to whether or not the administrator completed the tasks.\n"
      ]
    },
    {
      "cell_type": "code",
      "metadata": {
        "id": "6rvprdKCcqzJ"
      },
      "source": [
        "# Import the dataset\n"
      ],
      "execution_count": null,
      "outputs": []
    },
    {
      "cell_type": "markdown",
      "metadata": {
        "id": "w3iNyB4jcqzJ"
      },
      "source": [
        "\n",
        "**TODO 1**\n",
        "\n",
        "Create a scatter plot of Experience vs. Training using color or symbol to distinguish the administrators' task completion statues. \n",
        "\n",
        "Which predictor(s) appear(s) potentially useful for the classifying task?"
      ]
    },
    {
      "cell_type": "code",
      "metadata": {
        "id": "OwS-K8FRcqzJ"
      },
      "source": [
        ""
      ],
      "execution_count": null,
      "outputs": []
    },
    {
      "cell_type": "markdown",
      "metadata": {
        "id": "8qIwYFtVfbMS"
      },
      "source": [
        "**TODO 2**\n",
        "\n",
        "Run a logistic regression model with both predictors using the entire dataset as training data. Among those who completed the task, what is the percentage of administrators incorrectly classified as failing to complete the task?"
      ]
    },
    {
      "cell_type": "code",
      "metadata": {
        "id": "DbManQzmffpi"
      },
      "source": [
        ""
      ],
      "execution_count": null,
      "outputs": []
    },
    {
      "cell_type": "markdown",
      "metadata": {
        "id": "ZsoXEQGxfjHB"
      },
      "source": [
        "**TODO 3**\n",
        "\n",
        "To decrease the percentage in TODO 2, should we increase or decrease the cutoff probability?"
      ]
    },
    {
      "cell_type": "markdown",
      "metadata": {
        "id": "kiY28C-rfmHh"
      },
      "source": [
        ""
      ]
    },
    {
      "cell_type": "markdown",
      "metadata": {
        "id": "chIRSDL9fn0i"
      },
      "source": [
        "**TODO 4**\n",
        "\n",
        "How much experience must be accumulated by a administrator with 4 years of training before his or her estimated probability of completing the task exceeds 0.5?"
      ]
    },
    {
      "cell_type": "code",
      "metadata": {
        "id": "UUTk_C3Mf8bT"
      },
      "source": [
        ""
      ],
      "execution_count": null,
      "outputs": []
    },
    {
      "cell_type": "markdown",
      "metadata": {
        "id": "rAoXgJancMHY"
      },
      "source": [
        "## Part 2: Neural Network"
      ]
    },
    {
      "cell_type": "markdown",
      "metadata": {
        "id": "kUezdM7RpDDk"
      },
      "source": [
        "### Problem 3 - Car Sales##"
      ]
    },
    {
      "cell_type": "markdown",
      "metadata": {
        "id": "HJty4hSgo7ER"
      },
      "source": [
        "Consider the data on used cars (**ToyotaCorolla.csv**) with 1436 records and details on 38 attributes, including Price, Age, KM, HP, and other specifications. The goal is to predict the price of a used Toyota Corolla based on its specifications."
      ]
    },
    {
      "cell_type": "code",
      "metadata": {
        "id": "7S2DSXgLhX4J"
      },
      "source": [
        "# Import the dataset\n"
      ],
      "execution_count": null,
      "outputs": []
    },
    {
      "cell_type": "markdown",
      "metadata": {
        "id": "TQxCdAFZhSHC"
      },
      "source": [
        "**TODO 1**\n",
        "\n",
        "Fit a neural network model with the following specifications:\n",
        "\n",
        "*   Use predictors Age_08_04, KM, Fuel_Type, HP, Automatic, Doors, Quarterly_Tax, Mfr_Guarantee, Guarantee_Period, Airco, Automatic_airco, CD_Player,Powered_Windows, Sport_Model, and Tow_Bar\n",
        "*   Partition the data into 80% training and 20% validation\n",
        "*   Scale the numerical predictor and outcome; convert categorical predictors to dummies\n",
        "*   The neural network should have one single hidden layer with two nodes\n",
        "\n",
        "Present the model summary and performance on the training and validation sets.\n"
      ]
    },
    {
      "cell_type": "code",
      "metadata": {
        "id": "B3LWlHCfkOGN"
      },
      "source": [
        ""
      ],
      "execution_count": null,
      "outputs": []
    },
    {
      "cell_type": "markdown",
      "metadata": {
        "id": "DR8h9hqbo7EY"
      },
      "source": [
        "**TODO 2**\n",
        "\n",
        "Repeat the process, changing the number of hidden layers and nodes to {single layer with five nodes}, {two layers, five nodes in each layer}.\n",
        "\n",
        "Comment on the performance of the three models above."
      ]
    },
    {
      "cell_type": "code",
      "metadata": {
        "id": "Auq1CX17dHYJ"
      },
      "source": [
        ""
      ],
      "execution_count": null,
      "outputs": []
    }
  ]
}