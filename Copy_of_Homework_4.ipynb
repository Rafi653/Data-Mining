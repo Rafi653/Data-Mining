{
  "nbformat": 4,
  "nbformat_minor": 0,
  "metadata": {
    "kernelspec": {
      "display_name": "Python 3",
      "language": "python",
      "name": "python3"
    },
    "language_info": {
      "codemirror_mode": {
        "name": "ipython",
        "version": 3
      },
      "file_extension": ".py",
      "mimetype": "text/x-python",
      "name": "python",
      "nbconvert_exporter": "python",
      "pygments_lexer": "ipython3",
      "version": "3.7.6"
    },
    "colab": {
      "name": "Copy of Homework 4.ipynb",
      "provenance": [],
      "collapsed_sections": [],
      "include_colab_link": true
    }
  },
  "cells": [
    {
      "cell_type": "markdown",
      "metadata": {
        "id": "view-in-github",
        "colab_type": "text"
      },
      "source": [
        "<a href=\"https://colab.research.google.com/github/Rafi653/Data-Mining/blob/feature%2Fhomework4/Copy_of_Homework_4.ipynb\" target=\"_parent\"><img src=\"https://colab.research.google.com/assets/colab-badge.svg\" alt=\"Open In Colab\"/></a>"
      ]
    },
    {
      "cell_type": "markdown",
      "metadata": {
        "id": "Yq0XoVUIVNLC"
      },
      "source": [
        "# Homework 4"
      ]
    },
    {
      "cell_type": "markdown",
      "metadata": {
        "id": "0aqF485OxR-U"
      },
      "source": [
        "**Before you start:** Read Chapter 6 Linear Regression and Chapter 7 K-Nearst-Neighbors in the textbook.\n",
        "\n",
        "**Note:** Please enter the code along with your comments in the **TODO** section.\n",
        "\n",
        "Alternative solutions are welcomed."
      ]
    },
    {
      "cell_type": "markdown",
      "metadata": {
        "id": "QkMxpyKOxR-L"
      },
      "source": [
        "## Part 1: Linear Regression"
      ]
    },
    {
      "cell_type": "markdown",
      "metadata": {
        "id": "3IKYRqKtxR-N"
      },
      "source": [
        "### Problem 1 ##"
      ]
    },
    {
      "cell_type": "markdown",
      "metadata": {
        "id": "H8fENJRPk7P7"
      },
      "source": [
        "In this problem, you are expected to build a model to predict the Boston housing price.\n"
      ]
    },
    {
      "cell_type": "code",
      "source": [
        "# # Please remove # and run the following code if you have an error while importing the dataset\n",
        "# !pip install --upgrade openpyxl"
      ],
      "metadata": {
        "id": "0J9ra7d4rXb6"
      },
      "execution_count": null,
      "outputs": []
    },
    {
      "cell_type": "code",
      "metadata": {
        "id": "-aISISDbDVKG"
      },
      "source": [
        "from sklearn import datasets\n",
        "import pandas as pd\n",
        "import numpy as np\n",
        "import seaborn as sns\n",
        "import matplotlib.pyplot as plt\n",
        "np.set_printoptions(suppress=True)\n",
        "import sklearn"
      ],
      "execution_count": null,
      "outputs": []
    },
    {
      "cell_type": "code",
      "metadata": {
        "id": "vp1m53zhwdu2"
      },
      "source": [
        "#Load boston housing dataset\n",
        "boston_housing = datasets.load_boston()\n",
        "X = pd.DataFrame(boston_housing['data'], columns = boston_housing['feature_names'])\n",
        "\n",
        "#\"target\" is the response variable \n",
        "# which represents the median value of owner-occupied homes in $1000\n",
        "y = boston_housing['target'] "
      ],
      "execution_count": null,
      "outputs": []
    },
    {
      "cell_type": "code",
      "metadata": {
        "id": "koZ7LZPkZ5bq"
      },
      "source": [
        "data = X\n",
        "data['target'] = y"
      ],
      "execution_count": null,
      "outputs": []
    },
    {
      "cell_type": "markdown",
      "metadata": {
        "id": "orhex-OXhkgV"
      },
      "source": [
        "\n",
        "**TODO 1**\n",
        "\n",
        "Prevent collinearity by removing linearly dependent variables. \n",
        "\n",
        "For example, if 2 variables A and B have a correlation coefficient larger than 0.9, eliminate one to avoid redundency."
      ]
    },
    {
      "cell_type": "code",
      "metadata": {
        "id": "HciIg1g4jE_a",
        "colab": {
          "base_uri": "https://localhost:8080/",
          "height": 891
        },
        "outputId": "7448ce0a-9558-4004-aec4-ba2ecfea2cf2"
      },
      "source": [
        "import seaborn as sns\n",
        "r = data.corr()\n",
        "print(r)\n",
        "# r < -0.9\n",
        "# r > 0.9\n",
        "sns.heatmap(r)\n",
        "\n",
        "\"\"\"\n",
        "From below correlation Matrix we have two variables which highly corelated. `RAD` and `TAX`\n",
        "To avoid redundency we can remove one of them, So let's drop column `RAD` from dataset \n",
        "\"\"\""
      ],
      "execution_count": null,
      "outputs": [
        {
          "output_type": "stream",
          "name": "stdout",
          "text": [
            "             CRIM        ZN     INDUS      CHAS       NOX        RM       AGE  \\\n",
            "CRIM     1.000000 -0.200469  0.406583 -0.055892  0.420972 -0.219247  0.352734   \n",
            "ZN      -0.200469  1.000000 -0.533828 -0.042697 -0.516604  0.311991 -0.569537   \n",
            "INDUS    0.406583 -0.533828  1.000000  0.062938  0.763651 -0.391676  0.644779   \n",
            "CHAS    -0.055892 -0.042697  0.062938  1.000000  0.091203  0.091251  0.086518   \n",
            "NOX      0.420972 -0.516604  0.763651  0.091203  1.000000 -0.302188  0.731470   \n",
            "RM      -0.219247  0.311991 -0.391676  0.091251 -0.302188  1.000000 -0.240265   \n",
            "AGE      0.352734 -0.569537  0.644779  0.086518  0.731470 -0.240265  1.000000   \n",
            "DIS     -0.379670  0.664408 -0.708027 -0.099176 -0.769230  0.205246 -0.747881   \n",
            "RAD      0.625505 -0.311948  0.595129 -0.007368  0.611441 -0.209847  0.456022   \n",
            "TAX      0.582764 -0.314563  0.720760 -0.035587  0.668023 -0.292048  0.506456   \n",
            "PTRATIO  0.289946 -0.391679  0.383248 -0.121515  0.188933 -0.355501  0.261515   \n",
            "B       -0.385064  0.175520 -0.356977  0.048788 -0.380051  0.128069 -0.273534   \n",
            "LSTAT    0.455621 -0.412995  0.603800 -0.053929  0.590879 -0.613808  0.602339   \n",
            "target  -0.388305  0.360445 -0.483725  0.175260 -0.427321  0.695360 -0.376955   \n",
            "\n",
            "              DIS       RAD       TAX   PTRATIO         B     LSTAT    target  \n",
            "CRIM    -0.379670  0.625505  0.582764  0.289946 -0.385064  0.455621 -0.388305  \n",
            "ZN       0.664408 -0.311948 -0.314563 -0.391679  0.175520 -0.412995  0.360445  \n",
            "INDUS   -0.708027  0.595129  0.720760  0.383248 -0.356977  0.603800 -0.483725  \n",
            "CHAS    -0.099176 -0.007368 -0.035587 -0.121515  0.048788 -0.053929  0.175260  \n",
            "NOX     -0.769230  0.611441  0.668023  0.188933 -0.380051  0.590879 -0.427321  \n",
            "RM       0.205246 -0.209847 -0.292048 -0.355501  0.128069 -0.613808  0.695360  \n",
            "AGE     -0.747881  0.456022  0.506456  0.261515 -0.273534  0.602339 -0.376955  \n",
            "DIS      1.000000 -0.494588 -0.534432 -0.232471  0.291512 -0.496996  0.249929  \n",
            "RAD     -0.494588  1.000000  0.910228  0.464741 -0.444413  0.488676 -0.381626  \n",
            "TAX     -0.534432  0.910228  1.000000  0.460853 -0.441808  0.543993 -0.468536  \n",
            "PTRATIO -0.232471  0.464741  0.460853  1.000000 -0.177383  0.374044 -0.507787  \n",
            "B        0.291512 -0.444413 -0.441808 -0.177383  1.000000 -0.366087  0.333461  \n",
            "LSTAT   -0.496996  0.488676  0.543993  0.374044 -0.366087  1.000000 -0.737663  \n",
            "target   0.249929 -0.381626 -0.468536 -0.507787  0.333461 -0.737663  1.000000  \n"
          ]
        },
        {
          "output_type": "execute_result",
          "data": {
            "text/plain": [
              "\"\\nFrom below correlation Matrix we have two variables which highly corelated. `RAD` and `TAX`\\nTo avoid redundency we can remove one of them, So let's drop column `RAD` from dataset \\n\""
            ],
            "application/vnd.google.colaboratory.intrinsic+json": {
              "type": "string"
            }
          },
          "metadata": {},
          "execution_count": 5
        },
        {
          "output_type": "display_data",
          "data": {
            "text/plain": [
              "<Figure size 432x288 with 2 Axes>"
            ],
            "image/png": "[encoded data removed]"
          },
          "metadata": {
            "needs_background": "light"
          }
        }
      ]
    },
    {
      "cell_type": "code",
      "source": [
        "\"\"\"\n",
        "Drop column `RAD` to avoid redundency for model prediction\n",
        "\"\"\"\n",
        "data.drop(['RAD'], axis=1, inplace=True)\n"
      ],
      "metadata": {
        "id": "kcDHTaX_Nwra"
      },
      "execution_count": null,
      "outputs": []
    },
    {
      "cell_type": "markdown",
      "metadata": {
        "id": "kARkGcfnjCF8"
      },
      "source": [
        "\n",
        "**TODO 2**\n",
        "\n",
        "Partition the data into 75% training and 25% validation set."
      ]
    },
    {
      "cell_type": "code",
      "metadata": {
        "id": "FxBLE5pzOe1q"
      },
      "source": [
        "\"\"\"\n",
        "Data partition\n",
        "  Training Data: 75%\n",
        "  Validation Data: 25%\n",
        "\"\"\"\n",
        "from sklearn.model_selection import train_test_split\n",
        "X_train, X_val, y_train, y_val = train_test_split(data.iloc[:, :-1], \n",
        "                                                  data['target'], \n",
        "                                                  test_size = 0.25,\n",
        "                                                  random_state = 1)"
      ],
      "execution_count": null,
      "outputs": []
    },
    {
      "cell_type": "markdown",
      "metadata": {
        "id": "fJqs4RnZjd-n"
      },
      "source": [
        "\n",
        "**TODO 3**\n",
        "\n",
        "If we fit a linear regression model on the training set, what will be the feature weights? \n",
        "\n",
        "Calculate the feature weights using the matrix form (do not use any built-in packages such as sklearn or stat models)."
      ]
    },
    {
      "cell_type": "code",
      "metadata": {
        "id": "yTkjKMyXkP5C",
        "colab": {
          "base_uri": "https://localhost:8080/"
        },
        "outputId": "3b18f427-e2e1-44d6-a87d-dd6162da42c7"
      },
      "source": [
        "\"\"\"\n",
        "Closed form solution for linear regression on traing data \n",
        "\"\"\"\n",
        "w = np.linalg.inv(X_train.T.dot(X_train)).dot(X_train.T).dot(y_train)\n",
        "\n",
        "print(\"Feature weights are \", w)\n",
        "\n",
        "# def predict(X):\n",
        "#         return X.dot(self.w)"
      ],
      "execution_count": null,
      "outputs": [
        {
          "output_type": "stream",
          "name": "stdout",
          "text": [
            "Feature weights are  [-0.08331443  0.05308159 -0.04122959  2.58626504 -2.97561077  5.49159142\n",
            " -0.00286607 -0.92140713 -0.00080416 -0.2806534   0.01215365 -0.43275056]\n"
          ]
        }
      ]
    },
    {
      "cell_type": "markdown",
      "metadata": {
        "id": "tOKKKL7OkSJk"
      },
      "source": [
        "\n",
        "**TODO 4**\n",
        "\n",
        "Now only consider two input variables: Age and RM.\n",
        "\n",
        "Fit a linear regression model on the training set with a package at your choice. \n",
        "\n",
        "Present the model summary. We call this model **Model 1**."
      ]
    },
    {
      "cell_type": "code",
      "metadata": {
        "id": "mb9lrptHlXZx"
      },
      "source": [
        "\"\"\"\n",
        "Consider only columns `AGE` and `RM` as predictors and `target` is output\n",
        "  1. Split dataset into 75-25 for train-validation sets\n",
        "  2. Fit Linear Regression on X_train, y_train\n",
        "  3. Predict on X_val\n",
        "\n",
        "Model 1: linreg_1\n",
        "\"\"\"\n",
        "X_train, X_val, y_train, y_val = train_test_split(data[['AGE', 'RM']], \n",
        "                                                  data['target'], \n",
        "                                                  test_size = 0.25,\n",
        "                                                  random_state = 1)\n",
        "from sklearn.linear_model import LinearRegression\n",
        "\n",
        "linreg_1 = LinearRegression()\n",
        "linreg_1.fit(X_train, y_train)\n",
        "\n",
        "y_pred = linreg_1.predict(X_val)"
      ],
      "execution_count": null,
      "outputs": []
    },
    {
      "cell_type": "markdown",
      "metadata": {
        "id": "b_JTWrEDlFPU"
      },
      "source": [
        "\n",
        "**TODO 5**\n",
        "\n",
        "Evaluate the prediction performance of Model 1 on the validation set with RMSE and MAE as performance matrics."
      ]
    },
    {
      "cell_type": "code",
      "metadata": {
        "id": "716o2-CflX_1",
        "colab": {
          "base_uri": "https://localhost:8080/"
        },
        "outputId": "14a82565-208a-4255-afea-7e4f15bf8df8"
      },
      "source": [
        "\"\"\"\n",
        "Evaluate prediction performance of Model 1 by \n",
        "  1. Mean Absolute Error\n",
        "  2. Root Mean Squared Error\n",
        "\"\"\"\n",
        "from sklearn import metrics\n",
        "mae_1 = metrics.mean_absolute_error(y_val, y_pred)\n",
        "print(f\"Model 1, Mean Absolute Error : {mae_1}\")\n",
        "\n",
        "rmse_1 = np.sqrt(metrics.mean_squared_error(y_val, y_pred))\n",
        "print(f\"Model 1, Root Mean Squared Error : {rmse_1}\")\n"
      ],
      "execution_count": null,
      "outputs": [
        {
          "output_type": "stream",
          "name": "stdout",
          "text": [
            "Model 1, Mean Absolute Error : 4.692246377079943\n",
            "Model 1, Root Mean Squared Error : 6.236968213396187\n"
          ]
        }
      ]
    },
    {
      "cell_type": "markdown",
      "metadata": {
        "id": "-SVtXdBBlaF4"
      },
      "source": [
        "\n",
        "**TODO 6**\n",
        "\n",
        "Now consider all the features (after removing linearly dependent variables). \n",
        "\n",
        "Fit a linear regression model on the training set with a package at your choice. Present the model summary. \n",
        "\n",
        "We call this model **Model 2**."
      ]
    },
    {
      "cell_type": "code",
      "metadata": {
        "id": "IQsEcHVNl9Rj"
      },
      "source": [
        "\n",
        "\"\"\"\n",
        "Consider all columns (except RAD which is redundant) as predictors and `target` is output\n",
        "  1. Split dataset into 75-25 for train-validation sets\n",
        "  2. Fit Linear Regression on X_train, y_train\n",
        "  3. Predict on X_val\n",
        "\n",
        "Model 2: linreg_2\n",
        "\"\"\"\n",
        "X_train, X_val, y_train, y_val = train_test_split(data.iloc[:, :-1], \n",
        "                                                  data['target'], \n",
        "                                                  test_size = 0.25,\n",
        "                                                  random_state = 1)\n",
        "from sklearn.linear_model import LinearRegression\n",
        "\n",
        "linreg_2 = LinearRegression()\n",
        "linreg_2.fit(X_train, y_train)\n",
        "\n",
        "y_pred = linreg_2.predict(X_val)\n"
      ],
      "execution_count": null,
      "outputs": []
    },
    {
      "cell_type": "markdown",
      "metadata": {
        "id": "eqscMSkwl8wU"
      },
      "source": [
        "\n",
        "**TODO 7**\n",
        "\n",
        "Evaluate the prediction performance of Model 2 on the validation set with RMSE and MAE as performance matrics."
      ]
    },
    {
      "cell_type": "code",
      "metadata": {
        "id": "q2dbIQ1NmDzh",
        "colab": {
          "base_uri": "https://localhost:8080/"
        },
        "outputId": "748c4bd9-8a81-4b2e-f7be-cfb1280ace04"
      },
      "source": [
        "\"\"\"\n",
        "Evaluate prediction performance of Model 2 by \n",
        "  1. Mean Absolute Error\n",
        "  2. Root Mean Squared Error\n",
        "\"\"\"\n",
        "from sklearn import metrics\n",
        "\n",
        "mae_2 = metrics.mean_absolute_error(y_val, y_pred)\n",
        "print(f\"Model 2, Mean Absolute Error : {mae_2}\")\n",
        "\n",
        "rmse_2 = np.sqrt(metrics.mean_squared_error(y_val, y_pred))\n",
        "print(f\"Model 2, Root Mean Squared Error : {rmse_2}\")\n"
      ],
      "execution_count": null,
      "outputs": [
        {
          "output_type": "stream",
          "name": "stdout",
          "text": [
            "Model 2, Mean Absolute Error : 3.6757495758030925\n",
            "Model 2, Root Mean Squared Error : 4.824989720640999\n"
          ]
        }
      ]
    },
    {
      "cell_type": "markdown",
      "metadata": {
        "id": "2ZO2elK5mFtp"
      },
      "source": [
        "\n",
        "**TODO 8**\n",
        "\n",
        "Compare the performance of Model 1 and Model 2. \n",
        "\n",
        "Visualize the prediction error of both models using histogram. \n",
        "\n",
        "Comment on the model fitting."
      ]
    },
    {
      "cell_type": "code",
      "metadata": {
        "id": "XtK5KSL5mUY1",
        "colab": {
          "base_uri": "https://localhost:8080/",
          "height": 370
        },
        "outputId": "ce77a726-a7a3-465a-ad30-5e15b771c7f7"
      },
      "source": [
        "\"\"\"\n",
        "Comparing Model 1 and Model 2\n",
        "Using histogram, to evaluate performance between two models.\n",
        "\n",
        "It is clearly evident that Model 2 fits better compared to Model 1, with less error\n",
        "In model 1 we just used 2 variables which could lead to underfit our model\n",
        "\n",
        "\"\"\"\n",
        "\n",
        "l = [[mae_1, rmse_1], [mae_2, rmse_2]]\n",
        "print(l)\n",
        "from matplotlib import pyplot as plt\n",
        "plt.hist(l,bins=2,density=True)\n",
        "plt.ylabel('Probability')\n",
        "plt.xlabel('Errors')\n",
        "\n",
        "import seaborn as sns\n",
        "sns.distplot(l, bins=2)"
      ],
      "execution_count": null,
      "outputs": [
        {
          "output_type": "stream",
          "name": "stdout",
          "text": [
            "[[4.692246377079943, 6.236968213396187], [3.6757495758030925, 4.824989720640999]]\n"
          ]
        },
        {
          "output_type": "stream",
          "name": "stderr",
          "text": [
            "/usr/local/lib/python3.7/dist-packages/seaborn/distributions.py:2619: FutureWarning: `distplot` is a deprecated function and will be removed in a future version. Please adapt your code to use either `displot` (a figure-level function with similar flexibility) or `histplot` (an axes-level function for histograms).\n",
            "  warnings.warn(msg, FutureWarning)\n"
          ]
        },
        {
          "output_type": "execute_result",
          "data": {
            "text/plain": [
              "<matplotlib.axes._subplots.AxesSubplot at 0x7f9df7db0d10>"
            ]
          },
          "metadata": {},
          "execution_count": 13
        },
        {
          "output_type": "display_data",
          "data": {
            "text/plain": [
              "<Figure size 432x288 with 1 Axes>"
            ],
            "image/png": "[encoded data removed]"
          },
          "metadata": {
            "needs_background": "light"
          }
        }
      ]
    },
    {
      "cell_type": "markdown",
      "metadata": {
        "id": "mh3dkbjAmd9H"
      },
      "source": [
        "\n",
        "**TODO 9**\n",
        "\n",
        "Now consider all the features (after removing linearly dependent variables). \n",
        "\n",
        "The goal is to fit a LASSO linear regression model on the training set with a package at your choice. \n",
        "\n",
        "Compare the model performance of lambda in the range of [0,1] with the step of 0.01.\n",
        "\n",
        "Plot RMSE versus log(lambda).\n",
        "\n",
        "Pick the appropriate lambda value according to the plot.\n",
        "\n",
        "Present the model summary with the selected lambda. We call this model **Model 3**."
      ]
    },
    {
      "cell_type": "code",
      "metadata": {
        "id": "8iKTKHaomrJL",
        "colab": {
          "base_uri": "https://localhost:8080/",
          "height": 392
        },
        "outputId": "8644f524-65e5-4eb6-90fa-1b8020a66b3f"
      },
      "source": [
        "\"\"\"\n",
        "Consider all columns (except RAD which is redundant) as predictors and `target` is output: here we use Lasso linear regression\n",
        "\n",
        "  1. Split dataset into 75-25 for train-validation sets\n",
        "  2. To find best lambda value for lasso, we run model from 0 to 1 with step 0.01\n",
        "  3. For each lambda\n",
        "      1. Fit Linear Regression on X_train, y_train\n",
        "      2. Predict on X_val\n",
        "      3. Calculate RMSE of y_val to y_pred\n",
        "  4. Capture all RMSE values for each lambda value\n",
        "  5. Plot all RMSE values to choose best performing lambda\n",
        "\n",
        "Model 3: lasso\n",
        "\"\"\"\n",
        "X_train, X_val, y_train, y_val = train_test_split(data.iloc[:, :-1], \n",
        "                                                  data['target'], \n",
        "                                                  test_size = 0.25,\n",
        "                                                  random_state = 1)\n",
        "def rmse(y_true, y_pred):\n",
        "    return np.sqrt(metrics.mean_squared_error(y_true, y_pred))\n",
        "\n",
        "from sklearn.linear_model import Lasso\n",
        "error_list = []\n",
        "\n",
        "alphas = [i*0.01 for i in range(0, 101)]\n",
        "\n",
        "for l in alphas:\n",
        "    lasso = Lasso(alpha=l)\n",
        "    lasso.fit(X_train, y_train)\n",
        "\n",
        "    y_pred = lasso.predict(X_val)\n",
        "\n",
        "    error = rmse(y_val, y_pred)\n",
        "\n",
        "    error_list.append(round(error, 2))\n",
        "\n",
        "import matplotlib.pyplot as plt\n",
        "plt.plot(alphas, error_list)"
      ],
      "execution_count": null,
      "outputs": [
        {
          "output_type": "stream",
          "name": "stderr",
          "text": [
            "/usr/local/lib/python3.7/dist-packages/ipykernel_launcher.py:29: UserWarning: With alpha=0, this algorithm does not converge well. You are advised to use the LinearRegression estimator\n",
            "/usr/local/lib/python3.7/dist-packages/sklearn/linear_model/_coordinate_descent.py:648: UserWarning: Coordinate descent with no regularization may lead to unexpected results and is discouraged.\n",
            "  coef_, l1_reg, l2_reg, X, y, max_iter, tol, rng, random, positive\n",
            "/usr/local/lib/python3.7/dist-packages/sklearn/linear_model/_coordinate_descent.py:648: ConvergenceWarning: Objective did not converge. You might want to increase the number of iterations, check the scale of the features or consider increasing regularisation. Duality gap: 4.424e+03, tolerance: 3.008e+00 Linear regression models with null weight for the l1 regularization term are more efficiently fitted using one of the solvers implemented in sklearn.linear_model.Ridge/RidgeCV instead.\n",
            "  coef_, l1_reg, l2_reg, X, y, max_iter, tol, rng, random, positive\n"
          ]
        },
        {
          "output_type": "execute_result",
          "data": {
            "text/plain": [
              "[<matplotlib.lines.Line2D at 0x7f9df7d02c50>]"
            ]
          },
          "metadata": {},
          "execution_count": 14
        },
        {
          "output_type": "display_data",
          "data": {
            "text/plain": [
              "<Figure size 432x288 with 1 Axes>"
            ],
            "image/png": "[encoded data removed]"
          },
          "metadata": {
            "needs_background": "light"
          }
        }
      ]
    },
    {
      "cell_type": "code",
      "source": [
        "\"\"\"\n",
        "From the above graph it is clear that 0.03\n",
        "\n",
        "1. Fit Lasso model with lambda 0.03\n",
        "2. Predict on X_val \n",
        "\"\"\"\n",
        "\n",
        "best_alpha = alphas[error_list.index(min(error_list))]\n",
        "print(f\"Lambda with least RMSE : {best_alpha}\")\n",
        "\n",
        "\n",
        "model = Lasso(alpha=best_alpha)\n",
        "model.fit(X_train, y_train)\n",
        "\n",
        "y_pred = model.predict(X_val)\n"
      ],
      "metadata": {
        "id": "Spn3pJyhbc4g",
        "colab": {
          "base_uri": "https://localhost:8080/"
        },
        "outputId": "e883a735-f7e4-4c29-dd12-462f7141585e"
      },
      "execution_count": null,
      "outputs": [
        {
          "output_type": "stream",
          "name": "stdout",
          "text": [
            "Lambda with least RMSE : 0.03\n"
          ]
        }
      ]
    },
    {
      "cell_type": "markdown",
      "metadata": {
        "id": "awGm3NPRmsjN"
      },
      "source": [
        "\n",
        "**TODO 10**\n",
        "\n",
        "Evaluate the prediction performance of Model 3 on the validation set with RMSE and MAE as performance matrics."
      ]
    },
    {
      "cell_type": "code",
      "metadata": {
        "id": "M3iFpmebmxDz",
        "colab": {
          "base_uri": "https://localhost:8080/"
        },
        "outputId": "edc73288-b923-4f46-f509-ab9ba05e6508"
      },
      "source": [
        "\"\"\"\n",
        "Evaluate prediction performance of Model 3 by \n",
        "  1. Mean Absolute Error\n",
        "  2. Root Mean Squared Error\n",
        "\"\"\"\n",
        "\n",
        "\n",
        "from sklearn import metrics\n",
        "\n",
        "mae_3 = metrics.mean_absolute_error(y_val, y_pred)\n",
        "print(f\"Model 3, Mean Absolute Error : {mae_3}\")\n",
        "\n",
        "\n",
        "rmse_3 = np.sqrt(metrics.mean_squared_error(y_val, y_pred))\n",
        "print(f\"Model 3, Root Mean Squared Error : {rmse_3}\")"
      ],
      "execution_count": null,
      "outputs": [
        {
          "output_type": "stream",
          "name": "stdout",
          "text": [
            "Model 3, Mean Absolute Error : 3.585646825881763\n",
            "Model 3, Root Mean Squared Error : 4.772820793504805\n"
          ]
        }
      ]
    },
    {
      "cell_type": "markdown",
      "metadata": {
        "id": "OolmJkPgmzet"
      },
      "source": [
        "\n",
        "**TODO 11**\n",
        "\n",
        "Among Model 1, 2, and 3, which one would be your pick for future implementation? State your reasons."
      ]
    },
    {
      "cell_type": "code",
      "metadata": {
        "id": "UQbxD3linDY4",
        "colab": {
          "base_uri": "https://localhost:8080/",
          "height": 370
        },
        "outputId": "14b4e0e6-23cb-42f6-a487-ed8673b238ed"
      },
      "source": [
        "\"\"\"\n",
        "Comparing Model 1, Model 2 and Model 3\n",
        "Using histogram, to evaluate performance between two models.\n",
        "\n",
        "It is clearly evident that Model 3 fits better compared to Model 1 and Model 2, with less error\n",
        "  1. In model 1 we just used 2 variables which could lead to underfit our model\n",
        "  2. Lasso out perform Linear regression as it penalizes any high errors with NORM 1\n",
        "\n",
        "\"\"\"\n",
        "\n",
        "l = [[mae_1, rmse_1], [mae_2, rmse_2], [mae_3, rmse_3]]\n",
        "print(l)\n",
        "from matplotlib import pyplot as plt\n",
        "plt.hist(l,bins=2,density=True)\n",
        "plt.ylabel('Probability')\n",
        "plt.xlabel('Errors')\n",
        "\n",
        "import seaborn as sns\n",
        "sns.distplot(l, bins=3)"
      ],
      "execution_count": null,
      "outputs": [
        {
          "output_type": "stream",
          "name": "stdout",
          "text": [
            "[[4.692246377079943, 6.236968213396187], [3.6757495758030925, 4.824989720640999], [3.585646825881763, 4.772820793504805]]\n"
          ]
        },
        {
          "output_type": "stream",
          "name": "stderr",
          "text": [
            "/usr/local/lib/python3.7/dist-packages/seaborn/distributions.py:2619: FutureWarning: `distplot` is a deprecated function and will be removed in a future version. Please adapt your code to use either `displot` (a figure-level function with similar flexibility) or `histplot` (an axes-level function for histograms).\n",
            "  warnings.warn(msg, FutureWarning)\n"
          ]
        },
        {
          "output_type": "execute_result",
          "data": {
            "text/plain": [
              "<matplotlib.axes._subplots.AxesSubplot at 0x7f9df7c4f4d0>"
            ]
          },
          "metadata": {},
          "execution_count": 17
        },
        {
          "output_type": "display_data",
          "data": {
            "text/plain": [
              "<Figure size 432x288 with 1 Axes>"
            ],
            "image/png": "[encoded data removed]"
          },
          "metadata": {
            "needs_background": "light"
          }
        }
      ]
    },
    {
      "cell_type": "markdown",
      "metadata": {
        "id": "Rion40Hwnf-B"
      },
      "source": [
        "## Part 2: K-Nearst-Neighbors"
      ]
    },
    {
      "cell_type": "markdown",
      "metadata": {
        "id": "6X-yZb6YvfhH"
      },
      "source": [
        "### Problem 2 ##"
      ]
    },
    {
      "cell_type": "markdown",
      "metadata": {
        "id": "1hgf-yTV9q2V"
      },
      "source": [
        "The wine dataset is the result of a chemical analysis of wines produced in the same region in Italy but derived from three different cultivars. (For illustration simplicity purpose, only 2 classes, 0 and 1, will be included for the classification task.) The analysis determined the quantities of 13 constituents found in each of the three types of wines.\n",
        "\n",
        "The objective is to classify the wines into class 0 or 1 using the 13 given attributes and k-NN classifier."
      ]
    },
    {
      "cell_type": "code",
      "source": [
        "# load the wine dataset \n",
        "wine = datasets.load_wine()\n"
      ],
      "metadata": {
        "id": "uazYtOD46ax5"
      },
      "execution_count": null,
      "outputs": []
    },
    {
      "cell_type": "code",
      "metadata": {
        "id": "gJq0FB5U_y8N"
      },
      "source": [
        "# convert the data into dataframe format\n",
        "X = pd.DataFrame(wine['data'], columns = wine['feature_names'])\n",
        "y = wine['target']\n",
        "\n",
        "# only consider wine class 0 and 1\n",
        "X = X.loc[0:129, :]\n",
        "y = y[0:130]\n"
      ],
      "execution_count": null,
      "outputs": []
    },
    {
      "cell_type": "code",
      "metadata": {
        "id": "HWEw98d_3gM7"
      },
      "source": [
        "data = X\n",
        "data['target'] = y"
      ],
      "execution_count": null,
      "outputs": []
    },
    {
      "cell_type": "markdown",
      "metadata": {
        "id": "2saGofKTEpiJ"
      },
      "source": [
        "**TODO 1**\n",
        "\n",
        "Considering the fundamental idea of k-NN, would you recommend data rescaling before model building? Why? \n",
        "\n",
        "If so, partition the data into 75% training and 25% validation set, then standardize them."
      ]
    },
    {
      "cell_type": "code",
      "metadata": {
        "id": "wGM-LtA9oKAL"
      },
      "source": [
        "\"\"\"\n",
        "Considering k-NN, it is recommended to scale the data before modelling, \n",
        "because in k-NN we caluclate propensisty of output class based on distance/similarity between instances\n",
        "So we standardize data before model building\n",
        "\n",
        "Here we are partitioning data as 75-25 for training and validation data set\n",
        "\"\"\"\n",
        "\n",
        "from sklearn.model_selection import train_test_split\n",
        "\n",
        "X_train, X_val, y_train, y_val = train_test_split(data.iloc[:, :-1], \n",
        "                                                  data['target'], \n",
        "                                                  test_size = 0.25,\n",
        "                                                  random_state = 1)"
      ],
      "execution_count": null,
      "outputs": []
    },
    {
      "cell_type": "code",
      "source": [
        "\"\"\"\n",
        "Standardize data using StandardScaler() and transform both train and validation data sets\n",
        "\"\"\"\n",
        "\n",
        "from sklearn.preprocessing import StandardScaler\n",
        "scaler = StandardScaler()\n",
        "scaler.fit(X_train)\n",
        "\n",
        "X_train = scaler.transform(X_train)\n",
        "X_val = scaler.transform(X_val)"
      ],
      "metadata": {
        "id": "4Je97akNHswy"
      },
      "execution_count": null,
      "outputs": []
    },
    {
      "cell_type": "markdown",
      "metadata": {
        "id": "RrGgm_3mJbIR"
      },
      "source": [
        "**TODO 2**\n",
        "\n",
        "Choose the best k from 1-10 based on the classification accuracy of different k values on the validation set."
      ]
    },
    {
      "cell_type": "code",
      "metadata": {
        "id": "im140FGgoXwZ",
        "colab": {
          "base_uri": "https://localhost:8080/"
        },
        "outputId": "d173c6b8-0601-4b8b-ba1e-079369db7db6"
      },
      "source": [
        "\"\"\"\n",
        "To find the best k from 1-10\n",
        "1. For each k in 1-10\n",
        "    1. fit knn on X_train, y_train\n",
        "    2. Predict on X_val\n",
        "    3. Capture accuracy comparing y_pred with y_val\n",
        "2. Find the best k,with best accuracy\n",
        "\"\"\"\n",
        "from sklearn.neighbors import KNeighborsClassifier\n",
        "from sklearn import metrics\n",
        "\n",
        "accuracy_list = []\n",
        "for k in range(1,11):\n",
        "    knn = KNeighborsClassifier(n_neighbors=k)\n",
        "    knn.fit(X_train, y_train)\n",
        "    y_pred = knn.predict(X_val)\n",
        "\n",
        "    acc = metrics.accuracy_score(y_val, y_pred)\n",
        "    accuracy_list.append([k, acc])\n",
        "\n",
        "print(accuracy_list)\n",
        "\n",
        "best_k = max(accuracy_list, key = lambda x:x[1])[0]\n",
        "print(f\"Best k with maximum accuracy: {best_k}\")"
      ],
      "execution_count": null,
      "outputs": [
        {
          "output_type": "stream",
          "name": "stdout",
          "text": [
            "[[1, 0.9393939393939394], [2, 0.9090909090909091], [3, 0.9393939393939394], [4, 0.8787878787878788], [5, 1.0], [6, 1.0], [7, 1.0], [8, 0.9696969696969697], [9, 1.0], [10, 0.9696969696969697]]\n",
            "Best k with maximum accuracy: 5\n"
          ]
        }
      ]
    },
    {
      "cell_type": "markdown",
      "metadata": {
        "id": "rvUBy4oPMMIf"
      },
      "source": [
        "**TODO 3**\n",
        "\n",
        "Classify the new record given below using the chosen k. \n",
        "\n",
        "Considering the size of the wine dataset, would you recommend data partition before scoring the new record? Why?"
      ]
    },
    {
      "cell_type": "code",
      "metadata": {
        "id": "En5oZKFkOkd9"
      },
      "source": [
        "# New record\n",
        "new_wine = pd.DataFrame(columns = wine['feature_names'])\n",
        "new_wine.loc[0,:] = np.array([14.12, 1.88, 2.31, 18.5, 125, 2.50, 3.12, 0.26, 2.12, 4.87, 1.02, 3.23, 955])\n"
      ],
      "execution_count": null,
      "outputs": []
    },
    {
      "cell_type": "code",
      "metadata": {
        "id": "S8ID7J4hoo8e",
        "colab": {
          "base_uri": "https://localhost:8080/",
          "height": 89
        },
        "outputId": "bd527eeb-b1f7-4cb9-dc04-dd7e15fc7492"
      },
      "source": [
        "\"\"\"\n",
        "With k value = 5\n",
        "1. Fit k-NN classifier and predict class of new wine\n",
        "\n",
        "\"\"\"\n",
        "\n",
        "knn = KNeighborsClassifier(n_neighbors=best_k)\n",
        "knn.fit(X_train, y_train)\n",
        "\n",
        "new_wine = scaler.transform(new_wine)\n",
        "\n",
        "y_pred = knn.predict(new_wine)\n",
        "print(y_pred)\n",
        "print(f\"New wine belongs to class {y_pred}\")\n",
        "\n",
        "\"\"\"\n",
        "We think no, because size of data set is very small, for 13 predictors we just have 130 row in total, by partition we just get 97 rows in training set,\n",
        "which less compared to our thumpb rule of having atleast d*10=130 rows for better data sampling and model learning\n",
        "\"\"\""
      ],
      "execution_count": null,
      "outputs": [
        {
          "output_type": "stream",
          "name": "stdout",
          "text": [
            "[0]\n",
            "New wine belongs to class [0]\n"
          ]
        },
        {
          "output_type": "execute_result",
          "data": {
            "text/plain": [
              "'\\nWe think no, because size of data set is very small, for 13 predictors we just have 130 row in total, by partition we just get 97 rows in training set,\\nwhich less compared to our thumpb rule of having atleast d*10=130 rows for better data sampling and model learning\\n'"
            ],
            "application/vnd.google.colaboratory.intrinsic+json": {
              "type": "string"
            }
          },
          "metadata": {},
          "execution_count": 25
        }
      ]
    },
    {
      "cell_type": "markdown",
      "metadata": {
        "id": "kUezdM7RpDDk"
      },
      "source": [
        "### Problem 3 ##"
      ]
    },
    {
      "cell_type": "markdown",
      "metadata": {
        "id": "HJty4hSgo7ER"
      },
      "source": [
        "The data concerns city-cycle fuel consumption in miles per gallon (mpg). The objective is to use k-NN classifier to predict the mpg with the given attributes."
      ]
    },
    {
      "cell_type": "code",
      "metadata": {
        "id": "viZfphuao7EV",
        "colab": {
          "resources": {
            "http://localhost:8080/nbextensions/google.colab/files.js": {
              "data": "Ly8gQ29weXJpZ2h0IDIwMTcgR29vZ2xlIExMQwovLwovLyBMaWNlbnNlZCB1bmRlciB0aGUgQXBhY2hlIExpY2Vuc2UsIFZlcnNpb24gMi4wICh0aGUgIkxpY2Vuc2UiKTsKLy8geW91IG1heSBub3QgdXNlIHRoaXMgZmlsZSBleGNlcHQgaW4gY29tcGxpYW5jZSB3aXRoIHRoZSBMaWNlbnNlLgovLyBZb3UgbWF5IG9idGFpbiBhIGNvcHkgb2YgdGhlIExpY2Vuc2UgYXQKLy8KLy8gICAgICBodHRwOi8vd3d3LmFwYWNoZS5vcmcvbGljZW5zZXMvTElDRU5TRS0yLjAKLy8KLy8gVW5sZXNzIHJlcXVpcmVkIGJ5IGFwcGxpY2FibGUgbGF3IG9yIGFncmVlZCB0byBpbiB3cml0aW5nLCBzb2Z0d2FyZQovLyBkaXN0cmlidXRlZCB1bmRlciB0aGUgTGljZW5zZSBpcyBkaXN0cmlidXRlZCBvbiBhbiAiQVMgSVMiIEJBU0lTLAovLyBXSVRIT1VUIFdBUlJBTlRJRVMgT1IgQ09ORElUSU9OUyBPRiBBTlkgS0lORCwgZWl0aGVyIGV4cHJlc3Mgb3IgaW1wbGllZC4KLy8gU2VlIHRoZSBMaWNlbnNlIGZvciB0aGUgc3BlY2lmaWMgbGFuZ3VhZ2UgZ292ZXJuaW5nIHBlcm1pc3Npb25zIGFuZAovLyBsaW1pdGF0aW9ucyB1bmRlciB0aGUgTGljZW5zZS4KCi8qKgogKiBAZmlsZW92ZXJ2aWV3IEhlbHBlcnMgZm9yIGdvb2dsZS5jb2xhYiBQeXRob24gbW9kdWxlLgogKi8KKGZ1bmN0aW9uKHNjb3BlKSB7CmZ1bmN0aW9uIHNwYW4odGV4dCwgc3R5bGVBdHRyaWJ1dGVzID0ge30pIHsKICBjb25zdCBlbGVtZW50ID0gZG9jdW1lbnQuY3JlYXRlRWxlbWVudCgnc3BhbicpOwogIGVsZW1lbnQudGV4dENvbnRlbnQgPSB0ZXh0OwogIGZvciAoY29uc3Qga2V5IG9mIE9iamVjdC5rZXlzKHN0eWxlQXR0cmlidXRlcykpIHsKICAgIGVsZW1lbnQuc3R5bGVba2V5XSA9IHN0eWxlQXR0cmlidXRlc1trZXldOwogIH0KICByZXR1cm4gZWxlbWVudDsKfQoKLy8gTWF4IG51bWJlciBvZiBieXRlcyB3aGljaCB3aWxsIGJlIHVwbG9hZGVkIGF0IGEgdGltZS4KY29uc3QgTUFYX1BBWUxPQURfU0laRSA9IDEwMCAqIDEwMjQ7CgpmdW5jdGlvbiBfdXBsb2FkRmlsZXMoaW5wdXRJZCwgb3V0cHV0SWQpIHsKICBjb25zdCBzdGVwcyA9IHVwbG9hZEZpbGVzU3RlcChpbnB1dElkLCBvdXRwdXRJZCk7CiAgY29uc3Qgb3V0cHV0RWxlbWVudCA9IGRvY3VtZW50LmdldEVsZW1lbnRCeUlkKG91dHB1dElkKTsKICAvLyBDYWNoZSBzdGVwcyBvbiB0aGUgb3V0cHV0RWxlbWVudCB0byBtYWtlIGl0IGF2YWlsYWJsZSBmb3IgdGhlIG5leHQgY2FsbAogIC8vIHRvIHVwbG9hZEZpbGVzQ29udGludWUgZnJvbSBQeXRob24uCiAgb3V0cHV0RWxlbWVudC5zdGVwcyA9IHN0ZXBzOwoKICByZXR1cm4gX3VwbG9hZEZpbGVzQ29udGludWUob3V0cHV0SWQpOwp9CgovLyBUaGlzIGlzIHJvdWdobHkgYW4gYXN5bmMgZ2VuZXJhdG9yIChub3Qgc3VwcG9ydGVkIGluIHRoZSBicm93c2VyIHlldCksCi8vIHdoZXJlIHRoZXJlIGFyZSBtdWx0aXBsZSBhc3luY2hyb25vdXMgc3RlcHMgYW5kIHRoZSBQeXRob24gc2lkZSBpcyBnb2luZwovLyB0byBwb2xsIGZvciBjb21wbGV0aW9uIG9mIGVhY2ggc3RlcC4KLy8gVGhpcyB1c2VzIGEgUHJvbWlzZSB0byBibG9jayB0aGUgcHl0aG9uIHNpZGUgb24gY29tcGxldGlvbiBvZiBlYWNoIHN0ZXAsCi8vIHRoZW4gcGFzc2VzIHRoZSByZXN1bHQgb2YgdGhlIHByZXZpb3VzIHN0ZXAgYXMgdGhlIGlucHV0IHRvIHRoZSBuZXh0IHN0ZXAuCmZ1bmN0aW9uIF91cGxvYWRGaWxlc0NvbnRpbnVlKG91dHB1dElkKSB7CiAgY29uc3Qgb3V0cHV0RWxlbWVudCA9IGRvY3VtZW50LmdldEVsZW1lbnRCeUlkKG91dHB1dElkKTsKICBjb25zdCBzdGVwcyA9IG91dHB1dEVsZW1lbnQuc3RlcHM7CgogIGNvbnN0IG5leHQgPSBzdGVwcy5uZXh0KG91dHB1dEVsZW1lbnQubGFzdFByb21pc2VWYWx1ZSk7CiAgcmV0dXJuIFByb21pc2UucmVzb2x2ZShuZXh0LnZhbHVlLnByb21pc2UpLnRoZW4oKHZhbHVlKSA9PiB7CiAgICAvLyBDYWNoZSB0aGUgbGFzdCBwcm9taXNlIHZhbHVlIHRvIG1ha2UgaXQgYXZhaWxhYmxlIHRvIHRoZSBuZXh0CiAgICAvLyBzdGVwIG9mIHRoZSBnZW5lcmF0b3IuCiAgICBvdXRwdXRFbGVtZW50Lmxhc3RQcm9taXNlVmFsdWUgPSB2YWx1ZTsKICAgIHJldHVybiBuZXh0LnZhbHVlLnJlc3BvbnNlOwogIH0pOwp9CgovKioKICogR2VuZXJhdG9yIGZ1bmN0aW9uIHdoaWNoIGlzIGNhbGxlZCBiZXR3ZWVuIGVhY2ggYXN5bmMgc3RlcCBvZiB0aGUgdXBsb2FkCiAqIHByb2Nlc3MuCiAqIEBwYXJhbSB7c3RyaW5nfSBpbnB1dElkIEVsZW1lbnQgSUQgb2YgdGhlIGlucHV0IGZpbGUgcGlja2VyIGVsZW1lbnQuCiAqIEBwYXJhbSB7c3RyaW5nfSBvdXRwdXRJZCBFbGVtZW50IElEIG9mIHRoZSBvdXRwdXQgZGlzcGxheS4KICogQHJldHVybiB7IUl0ZXJhYmxlPCFPYmplY3Q+fSBJdGVyYWJsZSBvZiBuZXh0IHN0ZXBzLgogKi8KZnVuY3Rpb24qIHVwbG9hZEZpbGVzU3RlcChpbnB1dElkLCBvdXRwdXRJZCkgewogIGNvbnN0IGlucHV0RWxlbWVudCA9IGRvY3VtZW50LmdldEVsZW1lbnRCeUlkKGlucHV0SWQpOwogIGlucHV0RWxlbWVudC5kaXNhYmxlZCA9IGZhbHNlOwoKICBjb25zdCBvdXRwdXRFbGVtZW50ID0gZG9jdW1lbnQuZ2V0RWxlbWVudEJ5SWQob3V0cHV0SWQpOwogIG91dHB1dEVsZW1lbnQuaW5uZXJIVE1MID0gJyc7CgogIGNvbnN0IHBpY2tlZFByb21pc2UgPSBuZXcgUHJvbWlzZSgocmVzb2x2ZSkgPT4gewogICAgaW5wdXRFbGVtZW50LmFkZEV2ZW50TGlzdGVuZXIoJ2NoYW5nZScsIChlKSA9PiB7CiAgICAgIHJlc29sdmUoZS50YXJnZXQuZmlsZXMpOwogICAgfSk7CiAgfSk7CgogIGNvbnN0IGNhbmNlbCA9IGRvY3VtZW50LmNyZWF0ZUVsZW1lbnQoJ2J1dHRvbicpOwogIGlucHV0RWxlbWVudC5wYXJlbnRFbGVtZW50LmFwcGVuZENoaWxkKGNhbmNlbCk7CiAgY2FuY2VsLnRleHRDb250ZW50ID0gJ0NhbmNlbCB1cGxvYWQnOwogIGNvbnN0IGNhbmNlbFByb21pc2UgPSBuZXcgUHJvbWlzZSgocmVzb2x2ZSkgPT4gewogICAgY2FuY2VsLm9uY2xpY2sgPSAoKSA9PiB7CiAgICAgIHJlc29sdmUobnVsbCk7CiAgICB9OwogIH0pOwoKICAvLyBXYWl0IGZvciB0aGUgdXNlciB0byBwaWNrIHRoZSBmaWxlcy4KICBjb25zdCBmaWxlcyA9IHlpZWxkIHsKICAgIHByb21pc2U6IFByb21pc2UucmFjZShbcGlja2VkUHJvbWlzZSwgY2FuY2VsUHJvbWlzZV0pLAogICAgcmVzcG9uc2U6IHsKICAgICAgYWN0aW9uOiAnc3RhcnRpbmcnLAogICAgfQogIH07CgogIGNhbmNlbC5yZW1vdmUoKTsKCiAgLy8gRGlzYWJsZSB0aGUgaW5wdXQgZWxlbWVudCBzaW5jZSBmdXJ0aGVyIHBpY2tzIGFyZSBub3QgYWxsb3dlZC4KICBpbnB1dEVsZW1lbnQuZGlzYWJsZWQgPSB0cnVlOwoKICBpZiAoIWZpbGVzKSB7CiAgICByZXR1cm4gewogICAgICByZXNwb25zZTogewogICAgICAgIGFjdGlvbjogJ2NvbXBsZXRlJywKICAgICAgfQogICAgfTsKICB9CgogIGZvciAoY29uc3QgZmlsZSBvZiBmaWxlcykgewogICAgY29uc3QgbGkgPSBkb2N1bWVudC5jcmVhdGVFbGVtZW50KCdsaScpOwogICAgbGkuYXBwZW5kKHNwYW4oZmlsZS5uYW1lLCB7Zm9udFdlaWdodDogJ2JvbGQnfSkpOwogICAgbGkuYXBwZW5kKHNwYW4oCiAgICAgICAgYCgke2ZpbGUudHlwZSB8fCAnbi9hJ30pIC0gJHtmaWxlLnNpemV9IGJ5dGVzLCBgICsKICAgICAgICBgbGFzdCBtb2RpZmllZDogJHsKICAgICAgICAgICAgZmlsZS5sYXN0TW9kaWZpZWREYXRlID8gZmlsZS5sYXN0TW9kaWZpZWREYXRlLnRvTG9jYWxlRGF0ZVN0cmluZygpIDoKICAgICAgICAgICAgICAgICAgICAgICAgICAgICAgICAgICAgJ24vYSd9IC0gYCkpOwogICAgY29uc3QgcGVyY2VudCA9IHNwYW4oJzAlIGRvbmUnKTsKICAgIGxpLmFwcGVuZENoaWxkKHBlcmNlbnQpOwoKICAgIG91dHB1dEVsZW1lbnQuYXBwZW5kQ2hpbGQobGkpOwoKICAgIGNvbnN0IGZpbGVEYXRhUHJvbWlzZSA9IG5ldyBQcm9taXNlKChyZXNvbHZlKSA9PiB7CiAgICAgIGNvbnN0IHJlYWRlciA9IG5ldyBGaWxlUmVhZGVyKCk7CiAgICAgIHJlYWRlci5vbmxvYWQgPSAoZSkgPT4gewogICAgICAgIHJlc29sdmUoZS50YXJnZXQucmVzdWx0KTsKICAgICAgfTsKICAgICAgcmVhZGVyLnJlYWRBc0FycmF5QnVmZmVyKGZpbGUpOwogICAgfSk7CiAgICAvLyBXYWl0IGZvciB0aGUgZGF0YSB0byBiZSByZWFkeS4KICAgIGxldCBmaWxlRGF0YSA9IHlpZWxkIHsKICAgICAgcHJvbWlzZTogZmlsZURhdGFQcm9taXNlLAogICAgICByZXNwb25zZTogewogICAgICAgIGFjdGlvbjogJ2NvbnRpbnVlJywKICAgICAgfQogICAgfTsKCiAgICAvLyBVc2UgYSBjaHVua2VkIHNlbmRpbmcgdG8gYXZvaWQgbWVzc2FnZSBzaXplIGxpbWl0cy4gU2VlIGIvNjIxMTU2NjAuCiAgICBsZXQgcG9zaXRpb24gPSAwOwogICAgZG8gewogICAgICBjb25zdCBsZW5ndGggPSBNYXRoLm1pbihmaWxlRGF0YS5ieXRlTGVuZ3RoIC0gcG9zaXRpb24sIE1BWF9QQVlMT0FEX1NJWkUpOwogICAgICBjb25zdCBjaHVuayA9IG5ldyBVaW50OEFycmF5KGZpbGVEYXRhLCBwb3NpdGlvbiwgbGVuZ3RoKTsKICAgICAgcG9zaXRpb24gKz0gbGVuZ3RoOwoKICAgICAgY29uc3QgYmFzZTY0ID0gYnRvYShTdHJpbmcuZnJvbUNoYXJDb2RlLmFwcGx5KG51bGwsIGNodW5rKSk7CiAgICAgIHlpZWxkIHsKICAgICAgICByZXNwb25zZTogewogICAgICAgICAgYWN0aW9uOiAnYXBwZW5kJywKICAgICAgICAgIGZpbGU6IGZpbGUubmFtZSwKICAgICAgICAgIGRhdGE6IGJhc2U2NCwKICAgICAgICB9LAogICAgICB9OwoKICAgICAgbGV0IHBlcmNlbnREb25lID0gZmlsZURhdGEuYnl0ZUxlbmd0aCA9PT0gMCA/CiAgICAgICAgICAxMDAgOgogICAgICAgICAgTWF0aC5yb3VuZCgocG9zaXRpb24gLyBmaWxlRGF0YS5ieXRlTGVuZ3RoKSAqIDEwMCk7CiAgICAgIHBlcmNlbnQudGV4dENvbnRlbnQgPSBgJHtwZXJjZW50RG9uZX0lIGRvbmVgOwoKICAgIH0gd2hpbGUgKHBvc2l0aW9uIDwgZmlsZURhdGEuYnl0ZUxlbmd0aCk7CiAgfQoKICAvLyBBbGwgZG9uZS4KICB5aWVsZCB7CiAgICByZXNwb25zZTogewogICAgICBhY3Rpb246ICdjb21wbGV0ZScsCiAgICB9CiAgfTsKfQoKc2NvcGUuZ29vZ2xlID0gc2NvcGUuZ29vZ2xlIHx8IHt9OwpzY29wZS5nb29nbGUuY29sYWIgPSBzY29wZS5nb29nbGUuY29sYWIgfHwge307CnNjb3BlLmdvb2dsZS5jb2xhYi5fZmlsZXMgPSB7CiAgX3VwbG9hZEZpbGVzLAogIF91cGxvYWRGaWxlc0NvbnRpbnVlLAp9Owp9KShzZWxmKTsK",
              "ok": true,
              "headers": [
                [
                  "content-type",
                  "application/javascript"
                ]
              ],
              "status": 200,
              "status_text": ""
            }
          },
          "base_uri": "https://localhost:8080/",
          "height": 263
        },
        "outputId": "14dfde4b-71ab-43f1-eaf9-9af4221060ba"
      },
      "source": [
        "# import the dataset \"auto_mpg.csv\"\n",
        "import pandas as pd\n",
        "from google.colab import files\n",
        "file = files.upload()\n",
        "\n",
        "df = pd.read_csv('auto_mpg.csv')\n",
        "df.head()"
      ],
      "execution_count": null,
      "outputs": [
        {
          "output_type": "display_data",
          "data": {
            "text/plain": [
              "<IPython.core.display.HTML object>"
            ],
            "text/html": [
              "\n",
              "     <input type=\"file\" id=\"files-6ac71c7c-c3a2-4d17-8205-47deccdde687\" name=\"files[]\" multiple disabled\n",
              "        style=\"border:none\" />\n",
              "     <output id=\"result-6ac71c7c-c3a2-4d17-8205-47deccdde687\">\n",
              "      Upload widget is only available when the cell has been executed in the\n",
              "      current browser session. Please rerun this cell to enable.\n",
              "      </output>\n",
              "      <script src=\"/nbextensions/google.colab/files.js\"></script> "
            ]
          },
          "metadata": {}
        },
        {
          "output_type": "stream",
          "name": "stdout",
          "text": [
            "Saving auto_mpg.csv to auto_mpg (4).csv\n"
          ]
        },
        {
          "output_type": "execute_result",
          "data": {
            "text/plain": [
              "    mpg  cylinders  displacement horsepower  weight  acceleration  model year  \\\n",
              "0  18.0          8         307.0        130    3504          12.0          70   \n",
              "1  15.0          8         350.0        165    3693          11.5          70   \n",
              "2  18.0          8         318.0        150    3436          11.0          70   \n",
              "3  16.0          8         304.0        150    3433          12.0          70   \n",
              "4  17.0          8         302.0        140    3449          10.5          70   \n",
              "\n",
              "   origin                   car name  \n",
              "0       1  chevrolet chevelle malibu  \n",
              "1       1          buick skylark 320  \n",
              "2       1         plymouth satellite  \n",
              "3       1              amc rebel sst  \n",
              "4       1                ford torino  "
            ],
            "text/html": [
              "\n",
              "  <div id=\"df-1dd58728-cc25-406e-884f-135a09542866\">\n",
              "    <div class=\"colab-df-container\">\n",
              "      <div>\n",
              "<style scoped>\n",
              "    .dataframe tbody tr th:only-of-type {\n",
              "        vertical-align: middle;\n",
              "    }\n",
              "\n",
              "    .dataframe tbody tr th {\n",
              "        vertical-align: top;\n",
              "    }\n",
              "\n",
              "    .dataframe thead th {\n",
              "        text-align: right;\n",
              "    }\n",
              "</style>\n",
              "<table border=\"1\" class=\"dataframe\">\n",
              "  <thead>\n",
              "    <tr style=\"text-align: right;\">\n",
              "      <th></th>\n",
              "      <th>mpg</th>\n",
              "      <th>cylinders</th>\n",
              "      <th>displacement</th>\n",
              "      <th>horsepower</th>\n",
              "      <th>weight</th>\n",
              "      <th>acceleration</th>\n",
              "      <th>model year</th>\n",
              "      <th>origin</th>\n",
              "      <th>car name</th>\n",
              "    </tr>\n",
              "  </thead>\n",
              "  <tbody>\n",
              "    <tr>\n",
              "      <th>0</th>\n",
              "      <td>18.0</td>\n",
              "      <td>8</td>\n",
              "      <td>307.0</td>\n",
              "      <td>130</td>\n",
              "      <td>3504</td>\n",
              "      <td>12.0</td>\n",
              "      <td>70</td>\n",
              "      <td>1</td>\n",
              "      <td>chevrolet chevelle malibu</td>\n",
              "    </tr>\n",
              "    <tr>\n",
              "      <th>1</th>\n",
              "      <td>15.0</td>\n",
              "      <td>8</td>\n",
              "      <td>350.0</td>\n",
              "      <td>165</td>\n",
              "      <td>3693</td>\n",
              "      <td>11.5</td>\n",
              "      <td>70</td>\n",
              "      <td>1</td>\n",
              "      <td>buick skylark 320</td>\n",
              "    </tr>\n",
              "    <tr>\n",
              "      <th>2</th>\n",
              "      <td>18.0</td>\n",
              "      <td>8</td>\n",
              "      <td>318.0</td>\n",
              "      <td>150</td>\n",
              "      <td>3436</td>\n",
              "      <td>11.0</td>\n",
              "      <td>70</td>\n",
              "      <td>1</td>\n",
              "      <td>plymouth satellite</td>\n",
              "    </tr>\n",
              "    <tr>\n",
              "      <th>3</th>\n",
              "      <td>16.0</td>\n",
              "      <td>8</td>\n",
              "      <td>304.0</td>\n",
              "      <td>150</td>\n",
              "      <td>3433</td>\n",
              "      <td>12.0</td>\n",
              "      <td>70</td>\n",
              "      <td>1</td>\n",
              "      <td>amc rebel sst</td>\n",
              "    </tr>\n",
              "    <tr>\n",
              "      <th>4</th>\n",
              "      <td>17.0</td>\n",
              "      <td>8</td>\n",
              "      <td>302.0</td>\n",
              "      <td>140</td>\n",
              "      <td>3449</td>\n",
              "      <td>10.5</td>\n",
              "      <td>70</td>\n",
              "      <td>1</td>\n",
              "      <td>ford torino</td>\n",
              "    </tr>\n",
              "  </tbody>\n",
              "</table>\n",
              "</div>\n",
              "      <button class=\"colab-df-convert\" onclick=\"convertToInteractive('df-1dd58728-cc25-406e-884f-135a09542866')\"\n",
              "              title=\"Convert this dataframe to an interactive table.\"\n",
              "              style=\"display:none;\">\n",
              "        \n",
              "  <svg xmlns=\"http://www.w3.org/2000/svg\" height=\"24px\"viewBox=\"0 0 24 24\"\n",
              "       width=\"24px\">\n",
              "    <path d=\"M0 0h24v24H0V0z\" fill=\"none\"/>\n",
              "    <path d=\"M18.56 5.44l.94 2.06.94-2.06 2.06-.94-2.06-.94-.94-2.06-.94 2.06-2.06.94zm-11 1L8.5 8.5l.94-2.06 2.06-.94-2.06-.94L8.5 2.5l-.94 2.06-2.06.94zm10 10l.94 2.06.94-2.06 2.06-.94-2.06-.94-.94-2.06-.94 2.06-2.06.94z\"/><path d=\"M17.41 7.96l-1.37-1.37c-.4-.4-.92-.59-1.43-.59-.52 0-1.04.2-1.43.59L10.3 9.45l-7.72 7.72c-.78.78-.78 2.05 0 2.83L4 21.41c.39.39.9.59 1.41.59.51 0 1.02-.2 1.41-.59l7.78-7.78 2.81-2.81c.8-.78.8-2.07 0-2.86zM5.41 20L4 18.59l7.72-7.72 1.47 1.35L5.41 20z\"/>\n",
              "  </svg>\n",
              "      </button>\n",
              "      \n",
              "  <style>\n",
              "    .colab-df-container {\n",
              "      display:flex;\n",
              "      flex-wrap:wrap;\n",
              "      gap: 12px;\n",
              "    }\n",
              "\n",
              "    .colab-df-convert {\n",
              "      background-color: #E8F0FE;\n",
              "      border: none;\n",
              "      border-radius: 50%;\n",
              "      cursor: pointer;\n",
              "      display: none;\n",
              "      fill: #1967D2;\n",
              "      height: 32px;\n",
              "      padding: 0 0 0 0;\n",
              "      width: 32px;\n",
              "    }\n",
              "\n",
              "    .colab-df-convert:hover {\n",
              "      background-color: #E2EBFA;\n",
              "      box-shadow: 0px 1px 2px rgba(60, 64, 67, 0.3), 0px 1px 3px 1px rgba(60, 64, 67, 0.15);\n",
              "      fill: #174EA6;\n",
              "    }\n",
              "\n",
              "    [theme=dark] .colab-df-convert {\n",
              "      background-color: #3B4455;\n",
              "      fill: #D2E3FC;\n",
              "    }\n",
              "\n",
              "    [theme=dark] .colab-df-convert:hover {\n",
              "      background-color: #434B5C;\n",
              "      box-shadow: 0px 1px 3px 1px rgba(0, 0, 0, 0.15);\n",
              "      filter: drop-shadow(0px 1px 2px rgba(0, 0, 0, 0.3));\n",
              "      fill: #FFFFFF;\n",
              "    }\n",
              "  </style>\n",
              "\n",
              "      <script>\n",
              "        const buttonEl =\n",
              "          document.querySelector('#df-1dd58728-cc25-406e-884f-135a09542866 button.colab-df-convert');\n",
              "        buttonEl.style.display =\n",
              "          google.colab.kernel.accessAllowed ? 'block' : 'none';\n",
              "\n",
              "        async function convertToInteractive(key) {\n",
              "          const element = document.querySelector('#df-1dd58728-cc25-406e-884f-135a09542866');\n",
              "          const dataTable =\n",
              "            await google.colab.kernel.invokeFunction('convertToInteractive',\n",
              "                                                     [key], {});\n",
              "          if (!dataTable) return;\n",
              "\n",
              "          const docLinkHtml = 'Like what you see? Visit the ' +\n",
              "            '<a target=\"_blank\" href=https://colab.research.google.com/notebooks/data_table.ipynb>data table notebook</a>'\n",
              "            + ' to learn more about interactive tables.';\n",
              "          element.innerHTML = '';\n",
              "          dataTable['output_type'] = 'display_data';\n",
              "          await google.colab.output.renderOutput(dataTable, element);\n",
              "          const docLink = document.createElement('div');\n",
              "          docLink.innerHTML = docLinkHtml;\n",
              "          element.appendChild(docLink);\n",
              "        }\n",
              "      </script>\n",
              "    </div>\n",
              "  </div>\n",
              "  "
            ]
          },
          "metadata": {},
          "execution_count": 26
        }
      ]
    },
    {
      "cell_type": "code",
      "source": [
        "# df = df[df['horsepower']!='?']\n",
        "\n",
        "\"\"\"\n",
        "Found a missing value in column `horsepower`, so replacing it to None,so we can impute it before modelling\n",
        "\"\"\"\n",
        "\n",
        "df = df.replace({'?': None})"
      ],
      "metadata": {
        "id": "gikGJm1_bdV_"
      },
      "execution_count": null,
      "outputs": []
    },
    {
      "cell_type": "code",
      "source": [
        "\n",
        "X = df.iloc[:, 1:]\n",
        "y = df['mpg']\n"
      ],
      "metadata": {
        "id": "J9ERJm0EZ4Yu"
      },
      "execution_count": null,
      "outputs": []
    },
    {
      "cell_type": "markdown",
      "metadata": {
        "id": "H2OO76SGo7EV"
      },
      "source": [
        "**TODO 1**\n",
        "\n",
        "Check the unique value of the variable \"car name\". \n",
        "\n",
        "Would you recommend keeping \"car name\" for prediction? Why? \n",
        "\n",
        "If not, eliminate the variable \"car name\"."
      ]
    },
    {
      "cell_type": "code",
      "metadata": {
        "id": "05R9WLrTpijX",
        "colab": {
          "base_uri": "https://localhost:8080/"
        },
        "outputId": "756b117b-8dcf-4657-aad1-6c6a7d3daa7a"
      },
      "source": [
        "\n",
        "\"\"\"\n",
        "More than 75 % of values in column \"Car Name\" are unique. So it doesn't help for our prediction.\n",
        "So, we decided to remove this variable\n",
        "\"\"\"\n",
        "print(f\"Unique values in column `car name`: {X['car name'].nunique()}\")\n",
        "\n",
        "print(f\"Car name has {round((X['car name'].nunique() / X.shape[0])*100, 2)}% of unique values in dataset\")\n",
        "\n",
        "X.drop(columns= ['car name'], inplace=True)\n",
        "\n"
      ],
      "execution_count": null,
      "outputs": [
        {
          "output_type": "stream",
          "name": "stdout",
          "text": [
            "Unique values in column `car name`: 301\n",
            "Car name has 76.59% of unique values in dataset\n"
          ]
        }
      ]
    },
    {
      "cell_type": "markdown",
      "metadata": {
        "id": "H8XjK4Fro7EW"
      },
      "source": [
        "**TODO 2**\n",
        "\n",
        "Convert the variable \"origin\" to dummy variables before modeling"
      ]
    },
    {
      "cell_type": "code",
      "metadata": {
        "id": "FnkWQelTpkZI",
        "colab": {
          "base_uri": "https://localhost:8080/"
        },
        "outputId": "6cedfbc0-caeb-4781-f706-e00787160dd6"
      },
      "source": [
        "\"\"\"\n",
        "Converting categorical variable origin into dummy variables\n",
        "  1. It has 3 unique values 1, 2, 3\n",
        "  2. So we get 3 new column with binary encoding to them\n",
        "\n",
        "\"\"\"\n",
        "\n",
        "print(f\"Unique values in column `origin` are: {X['origin'].unique()}\")\n",
        "\n",
        "df_dc = pd.get_dummies(X, columns=['origin'])\n"
      ],
      "execution_count": null,
      "outputs": [
        {
          "output_type": "stream",
          "name": "stdout",
          "text": [
            "Unique values in column `origin` are: [1 3 2]\n"
          ]
        }
      ]
    },
    {
      "cell_type": "markdown",
      "metadata": {
        "id": "gcjzpN38o7EY"
      },
      "source": [
        "**TODO 3**\n",
        "\n",
        "Rescale the numeric data. Note that dummy variables should not be rescaled."
      ]
    },
    {
      "cell_type": "code",
      "metadata": {
        "id": "DcCDLUdwppqS",
        "colab": {
          "base_uri": "https://localhost:8080/",
          "height": 206
        },
        "outputId": "f8f258dc-886b-44f1-97a6-06d83e7e1903"
      },
      "source": [
        "\"\"\"\n",
        "Preprocessing before modelling\n",
        "    1. Remove unnecessary variable like `Car Name`\n",
        "    2. Convert Categorical variables into dummy variables\n",
        "        Used one-hot encoding to do this\n",
        "    3. Impute missing values, strategy='median'\n",
        "    4. Rescale numerical data using StandardScaler()\n",
        "\n",
        "Ensured that dummy variables are not rescaled \n",
        "\n",
        "\"\"\"\n",
        "\n",
        "\n",
        "from sklearn.compose import ColumnTransformer\n",
        "from sklearn.pipeline import Pipeline\n",
        "from sklearn.impute import SimpleImputer\n",
        "from sklearn.preprocessing import StandardScaler, OneHotEncoder\n",
        "\n",
        "numeric_features = [col for col in X.columns if col not in ('origin')]\n",
        "\n",
        "numeric_transformer = Pipeline(steps=[\n",
        "    ('imputer', SimpleImputer(strategy='median')),\n",
        "    ('scaler', StandardScaler())])\n",
        "\n",
        "categorical_features = ['origin']\n",
        "categorical_transformer = OneHotEncoder(handle_unknown='ignore')\n",
        "\n",
        "preprocessor = ColumnTransformer(\n",
        "    transformers=[\n",
        "        ('num', numeric_transformer, numeric_features),\n",
        "        ('cat', categorical_transformer, categorical_features)])\n",
        "\n",
        "p_df = preprocessor.fit_transform(X)\n",
        "\n",
        "X_df = pd.DataFrame(p_df, columns = df_dc.columns)\n",
        "X_df.head()\n"
      ],
      "execution_count": null,
      "outputs": [
        {
          "output_type": "execute_result",
          "data": {
            "text/plain": [
              "   cylinders  displacement  horsepower    weight  acceleration  model year  \\\n",
              "0   1.484867      1.078523    0.665637  0.621628     -1.287786   -1.625418   \n",
              "1   1.484867      1.490488    1.577165  0.844701     -1.469418   -1.625418   \n",
              "2   1.484867      1.183909    1.186510  0.541369     -1.651050   -1.625418   \n",
              "3   1.484867      1.049781    1.186510  0.537828     -1.287786   -1.625418   \n",
              "4   1.484867      1.030620    0.926074  0.556712     -1.832683   -1.625418   \n",
              "\n",
              "   origin_1  origin_2  origin_3  \n",
              "0       1.0       0.0       0.0  \n",
              "1       1.0       0.0       0.0  \n",
              "2       1.0       0.0       0.0  \n",
              "3       1.0       0.0       0.0  \n",
              "4       1.0       0.0       0.0  "
            ],
            "text/html": [
              "\n",
              "  <div id=\"df-394da7b7-389c-40c6-9912-d58f0a84daaa\">\n",
              "    <div class=\"colab-df-container\">\n",
              "      <div>\n",
              "<style scoped>\n",
              "    .dataframe tbody tr th:only-of-type {\n",
              "        vertical-align: middle;\n",
              "    }\n",
              "\n",
              "    .dataframe tbody tr th {\n",
              "        vertical-align: top;\n",
              "    }\n",
              "\n",
              "    .dataframe thead th {\n",
              "        text-align: right;\n",
              "    }\n",
              "</style>\n",
              "<table border=\"1\" class=\"dataframe\">\n",
              "  <thead>\n",
              "    <tr style=\"text-align: right;\">\n",
              "      <th></th>\n",
              "      <th>cylinders</th>\n",
              "      <th>displacement</th>\n",
              "      <th>horsepower</th>\n",
              "      <th>weight</th>\n",
              "      <th>acceleration</th>\n",
              "      <th>model year</th>\n",
              "      <th>origin_1</th>\n",
              "      <th>origin_2</th>\n",
              "      <th>origin_3</th>\n",
              "    </tr>\n",
              "  </thead>\n",
              "  <tbody>\n",
              "    <tr>\n",
              "      <th>0</th>\n",
              "      <td>1.484867</td>\n",
              "      <td>1.078523</td>\n",
              "      <td>0.665637</td>\n",
              "      <td>0.621628</td>\n",
              "      <td>-1.287786</td>\n",
              "      <td>-1.625418</td>\n",
              "      <td>1.0</td>\n",
              "      <td>0.0</td>\n",
              "      <td>0.0</td>\n",
              "    </tr>\n",
              "    <tr>\n",
              "      <th>1</th>\n",
              "      <td>1.484867</td>\n",
              "      <td>1.490488</td>\n",
              "      <td>1.577165</td>\n",
              "      <td>0.844701</td>\n",
              "      <td>-1.469418</td>\n",
              "      <td>-1.625418</td>\n",
              "      <td>1.0</td>\n",
              "      <td>0.0</td>\n",
              "      <td>0.0</td>\n",
              "    </tr>\n",
              "    <tr>\n",
              "      <th>2</th>\n",
              "      <td>1.484867</td>\n",
              "      <td>1.183909</td>\n",
              "      <td>1.186510</td>\n",
              "      <td>0.541369</td>\n",
              "      <td>-1.651050</td>\n",
              "      <td>-1.625418</td>\n",
              "      <td>1.0</td>\n",
              "      <td>0.0</td>\n",
              "      <td>0.0</td>\n",
              "    </tr>\n",
              "    <tr>\n",
              "      <th>3</th>\n",
              "      <td>1.484867</td>\n",
              "      <td>1.049781</td>\n",
              "      <td>1.186510</td>\n",
              "      <td>0.537828</td>\n",
              "      <td>-1.287786</td>\n",
              "      <td>-1.625418</td>\n",
              "      <td>1.0</td>\n",
              "      <td>0.0</td>\n",
              "      <td>0.0</td>\n",
              "    </tr>\n",
              "    <tr>\n",
              "      <th>4</th>\n",
              "      <td>1.484867</td>\n",
              "      <td>1.030620</td>\n",
              "      <td>0.926074</td>\n",
              "      <td>0.556712</td>\n",
              "      <td>-1.832683</td>\n",
              "      <td>-1.625418</td>\n",
              "      <td>1.0</td>\n",
              "      <td>0.0</td>\n",
              "      <td>0.0</td>\n",
              "    </tr>\n",
              "  </tbody>\n",
              "</table>\n",
              "</div>\n",
              "      <button class=\"colab-df-convert\" onclick=\"convertToInteractive('df-394da7b7-389c-40c6-9912-d58f0a84daaa')\"\n",
              "              title=\"Convert this dataframe to an interactive table.\"\n",
              "              style=\"display:none;\">\n",
              "        \n",
              "  <svg xmlns=\"http://www.w3.org/2000/svg\" height=\"24px\"viewBox=\"0 0 24 24\"\n",
              "       width=\"24px\">\n",
              "    <path d=\"M0 0h24v24H0V0z\" fill=\"none\"/>\n",
              "    <path d=\"M18.56 5.44l.94 2.06.94-2.06 2.06-.94-2.06-.94-.94-2.06-.94 2.06-2.06.94zm-11 1L8.5 8.5l.94-2.06 2.06-.94-2.06-.94L8.5 2.5l-.94 2.06-2.06.94zm10 10l.94 2.06.94-2.06 2.06-.94-2.06-.94-.94-2.06-.94 2.06-2.06.94z\"/><path d=\"M17.41 7.96l-1.37-1.37c-.4-.4-.92-.59-1.43-.59-.52 0-1.04.2-1.43.59L10.3 9.45l-7.72 7.72c-.78.78-.78 2.05 0 2.83L4 21.41c.39.39.9.59 1.41.59.51 0 1.02-.2 1.41-.59l7.78-7.78 2.81-2.81c.8-.78.8-2.07 0-2.86zM5.41 20L4 18.59l7.72-7.72 1.47 1.35L5.41 20z\"/>\n",
              "  </svg>\n",
              "      </button>\n",
              "      \n",
              "  <style>\n",
              "    .colab-df-container {\n",
              "      display:flex;\n",
              "      flex-wrap:wrap;\n",
              "      gap: 12px;\n",
              "    }\n",
              "\n",
              "    .colab-df-convert {\n",
              "      background-color: #E8F0FE;\n",
              "      border: none;\n",
              "      border-radius: 50%;\n",
              "      cursor: pointer;\n",
              "      display: none;\n",
              "      fill: #1967D2;\n",
              "      height: 32px;\n",
              "      padding: 0 0 0 0;\n",
              "      width: 32px;\n",
              "    }\n",
              "\n",
              "    .colab-df-convert:hover {\n",
              "      background-color: #E2EBFA;\n",
              "      box-shadow: 0px 1px 2px rgba(60, 64, 67, 0.3), 0px 1px 3px 1px rgba(60, 64, 67, 0.15);\n",
              "      fill: #174EA6;\n",
              "    }\n",
              "\n",
              "    [theme=dark] .colab-df-convert {\n",
              "      background-color: #3B4455;\n",
              "      fill: #D2E3FC;\n",
              "    }\n",
              "\n",
              "    [theme=dark] .colab-df-convert:hover {\n",
              "      background-color: #434B5C;\n",
              "      box-shadow: 0px 1px 3px 1px rgba(0, 0, 0, 0.15);\n",
              "      filter: drop-shadow(0px 1px 2px rgba(0, 0, 0, 0.3));\n",
              "      fill: #FFFFFF;\n",
              "    }\n",
              "  </style>\n",
              "\n",
              "      <script>\n",
              "        const buttonEl =\n",
              "          document.querySelector('#df-394da7b7-389c-40c6-9912-d58f0a84daaa button.colab-df-convert');\n",
              "        buttonEl.style.display =\n",
              "          google.colab.kernel.accessAllowed ? 'block' : 'none';\n",
              "\n",
              "        async function convertToInteractive(key) {\n",
              "          const element = document.querySelector('#df-394da7b7-389c-40c6-9912-d58f0a84daaa');\n",
              "          const dataTable =\n",
              "            await google.colab.kernel.invokeFunction('convertToInteractive',\n",
              "                                                     [key], {});\n",
              "          if (!dataTable) return;\n",
              "\n",
              "          const docLinkHtml = 'Like what you see? Visit the ' +\n",
              "            '<a target=\"_blank\" href=https://colab.research.google.com/notebooks/data_table.ipynb>data table notebook</a>'\n",
              "            + ' to learn more about interactive tables.';\n",
              "          element.innerHTML = '';\n",
              "          dataTable['output_type'] = 'display_data';\n",
              "          await google.colab.output.renderOutput(dataTable, element);\n",
              "          const docLink = document.createElement('div');\n",
              "          docLink.innerHTML = docLinkHtml;\n",
              "          element.appendChild(docLink);\n",
              "        }\n",
              "      </script>\n",
              "    </div>\n",
              "  </div>\n",
              "  "
            ]
          },
          "metadata": {},
          "execution_count": 31
        }
      ]
    },
    {
      "cell_type": "markdown",
      "metadata": {
        "id": "DR8h9hqbo7EY"
      },
      "source": [
        "**TODO 4**\n",
        "\n",
        "Partition the data into 75% training and 25% validation set."
      ]
    },
    {
      "cell_type": "code",
      "metadata": {
        "id": "ltjfdOwhpwcn"
      },
      "source": [
        "\"\"\"\n",
        "Partition the data into 75-25 for training and validation dataset\n",
        "\n",
        "\"\"\"\n",
        "\n",
        "from sklearn.model_selection import train_test_split\n",
        "\n",
        "X_train, X_val, y_train, y_val = train_test_split(X_df, \n",
        "                                                  y, \n",
        "                                                  test_size = 0.25,\n",
        "                                                  random_state = 1)"
      ],
      "execution_count": null,
      "outputs": []
    },
    {
      "cell_type": "markdown",
      "metadata": {
        "id": "ezvy0kvYo7EZ"
      },
      "source": [
        "**TODO 5**\n",
        "\n",
        "Choose the best k from 1-10 based on the MSE of different k values on the validation set. Explain the reason for your choice."
      ]
    },
    {
      "cell_type": "code",
      "source": [
        "from sklearn.neighbors import KNeighborsRegressor\n",
        "from sklearn import metrics\n",
        "import matplotlib.pyplot as plt\n",
        "\n",
        "def rmse(y_true, y_pred):\n",
        "    return np.sqrt(metrics.mean_squared_error(y_true, y_pred))\n",
        "\n",
        "k_range = range(1,11)\n",
        "\n",
        "error_list = []\n",
        "\n",
        "for k in k_range:\n",
        "  knn = KNeighborsRegressor(n_neighbors=k)\n",
        "  knn.fit(X_train, y_train)\n",
        "  y_pred = knn.predict(X_val)\n",
        "\n",
        "  error_list.append(rmse(y_val, y_pred))\n",
        "\n",
        "print(error_list)\n",
        "\n",
        "\n",
        "plt.plot( k_range, error_list)\n",
        "plt.xlabel(\"k\")\n",
        "plt.ylabel(\"RMSE\")"
      ],
      "metadata": {
        "colab": {
          "base_uri": "https://localhost:8080/",
          "height": 334
        },
        "id": "6eIBdxYcK0Fl",
        "outputId": "0ece9236-88ad-4820-d64a-3a61a7e58218"
      },
      "execution_count": null,
      "outputs": [
        {
          "output_type": "stream",
          "name": "stdout",
          "text": [
            "[3.9894178203660924, 3.7419003436513623, 3.678478068150952, 3.5920199502831722, 3.5300453541024375, 3.6323145947695643, 3.5972523814626878, 3.7463433350186133, 3.74888186348109, 3.7203683156430096]\n"
          ]
        },
        {
          "output_type": "execute_result",
          "data": {
            "text/plain": [
              "Text(0, 0.5, 'RMSE')"
            ]
          },
          "metadata": {},
          "execution_count": 33
        },
        {
          "output_type": "display_data",
          "data": {
            "text/plain": [
              "<Figure size 432x288 with 1 Axes>"
            ],
            "image/png": "[encoded data removed]"
          },
          "metadata": {
            "needs_background": "light"
          }
        }
      ]
    },
    {
      "cell_type": "code",
      "source": [
        "\"\"\"\n",
        "From above plot of k vs RMSE, it is clearly evident that model performs best with k = 5\n",
        "\"\"\"\n",
        "print(\"Best k for this model is 5\")"
      ],
      "metadata": {
        "colab": {
          "base_uri": "https://localhost:8080/"
        },
        "id": "r08vHQl1NAhc",
        "outputId": "0655059b-d97f-459b-9333-566b0680a37d"
      },
      "execution_count": null,
      "outputs": [
        {
          "output_type": "stream",
          "name": "stdout",
          "text": [
            "Best k for this model is 5\n"
          ]
        }
      ]
    },
    {
      "cell_type": "markdown",
      "metadata": {
        "id": "MLdN-jMIp4-2"
      },
      "source": [
        "**TODO 6**\n",
        "\n",
        "\n",
        "Score the validation set with the best k. Comment on the model performance."
      ]
    },
    {
      "cell_type": "code",
      "source": [
        "from sklearn import metrics\n",
        "\n",
        "best_k = 5\n",
        "\n",
        "knn = KNeighborsRegressor(n_neighbors=best_k)\n",
        "knn.fit(X_train, y_train)\n",
        "y_pred = knn.predict(X_val)\n",
        "\n",
        "print(f\"RMSE of model is : {rmse(y_val, y_pred)}\")\n",
        "print(f\"Mean Abosolute Error of model is : {metrics.mean_absolute_error(y_val, y_pred)}\")\n",
        "\n"
      ],
      "metadata": {
        "colab": {
          "base_uri": "https://localhost:8080/"
        },
        "id": "wUzv3rceeieR",
        "outputId": "ee9a0a59-49c5-4a23-8f6b-8cd4c9d67c3a"
      },
      "execution_count": null,
      "outputs": [
        {
          "output_type": "stream",
          "name": "stdout",
          "text": [
            "RMSE of model is : 3.5300453541024375\n",
            "Mean Abosolute Error of model is : 2.431919191919192\n"
          ]
        }
      ]
    },
    {
      "cell_type": "code",
      "source": [
        "\"\"\"\n",
        "Error rate very less, so k-NN model with k=5 has good performance on validation data set\n",
        "\"\"\""
      ],
      "metadata": {
        "colab": {
          "base_uri": "https://localhost:8080/",
          "height": 35
        },
        "id": "CldC3TEaOLeR",
        "outputId": "e2d918a1-0b1a-435d-d660-0ff35e6f4d65"
      },
      "execution_count": null,
      "outputs": [
        {
          "output_type": "execute_result",
          "data": {
            "text/plain": [
              "'\\nError rate very less, so k-NN model with k=5 has good performance on validation data set\\n'"
            ],
            "application/vnd.google.colaboratory.intrinsic+json": {
              "type": "string"
            }
          },
          "metadata": {},
          "execution_count": 36
        }
      ]
    }
  ]
}